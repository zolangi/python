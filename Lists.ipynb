{
 "cells": [
  {
   "cell_type": "markdown",
   "metadata": {},
   "source": [
    "Consider a list (list = []). You can perform the following commands:\n",
    "\n",
    "1. insert i e: Insert integer  at position .\n",
    "2. print: Print the list.\n",
    "3. remove e: Delete the first occurrence of integer .\n",
    "4. append e: Insert integer  at the end of the list.\n",
    "5. sort: Sort the list.\n",
    "6. pop: Pop the last element from the list.\n",
    "7. reverse: Reverse the list.\n",
    "\n",
    "Initialize your list and read in the value of  followed by  lines of commands where each command will be of the  types listed above. Iterate through each command in order and perform the corresponding operation on your list."
   ]
  },
  {
   "cell_type": "code",
   "execution_count": 12,
   "metadata": {},
   "outputs": [
    {
     "name": "stdout",
     "output_type": "stream",
     "text": [
      "Enter the number of commands to make: 12\n"
     ]
    }
   ],
   "source": [
    "num_of_commands = int(input(\"Enter the number of commands to make: \"))"
   ]
  },
  {
   "cell_type": "markdown",
   "metadata": {},
   "source": [
    "insert 0 5\n",
    "\n",
    "insert 1 10\n",
    "\n",
    "insert 0 6\n",
    "\n",
    "print\n",
    "\n",
    "remove 6\n",
    "\n",
    "append 9\n",
    "\n",
    "append 1\n",
    "\n",
    "sort\n",
    "\n",
    "print\n",
    "\n",
    "pop\n",
    "\n",
    "reverse\n",
    "\n",
    "print"
   ]
  },
  {
   "cell_type": "code",
   "execution_count": 51,
   "metadata": {},
   "outputs": [
    {
     "name": "stdout",
     "output_type": "stream",
     "text": [
      "Enter the command and numbers to perform the command on separated by a space: insert 0 5\n",
      "Enter the command and numbers to perform the command on separated by a space: insert 1 10\n",
      "Enter the command and numbers to perform the command on separated by a space: insert 0 6\n",
      "Enter the command and numbers to perform the command on separated by a space: print\n",
      "Enter the command and numbers to perform the command on separated by a space: remove 6\n",
      "Enter the command and numbers to perform the command on separated by a space: append 9\n",
      "Enter the command and numbers to perform the command on separated by a space: append 1\n",
      "Enter the command and numbers to perform the command on separated by a space: sort\n",
      "Enter the command and numbers to perform the command on separated by a space: print\n",
      "Enter the command and numbers to perform the command on separated by a space: pop\n",
      "Enter the command and numbers to perform the command on separated by a space: reverse\n",
      "Enter the command and numbers to perform the command on separated by a space: print\n"
     ]
    },
    {
     "data": {
      "text/plain": [
       "[['insert', [0, 5]],\n",
       " ['insert', [1, 10]],\n",
       " ['insert', [0, 6]],\n",
       " ['print', []],\n",
       " ['remove', [6]],\n",
       " ['append', [9]],\n",
       " ['append', [1]],\n",
       " ['sort', []],\n",
       " ['print', []],\n",
       " ['pop', []],\n",
       " ['reverse', []],\n",
       " ['print', []]]"
      ]
     },
     "execution_count": 51,
     "metadata": {},
     "output_type": "execute_result"
    }
   ],
   "source": [
    "commands = []\n",
    "for i in range(num_of_commands):\n",
    "    command, *line = input(\"Enter the command and numbers to perform the command on separated by a space: \").split()\n",
    "    nums = list(map(int, line))\n",
    "    commands.append([command, nums])\n",
    "\n",
    "commands"
   ]
  },
  {
   "cell_type": "markdown",
   "metadata": {},
   "source": [
    "## Method 1:"
   ]
  },
  {
   "cell_type": "code",
   "execution_count": 54,
   "metadata": {},
   "outputs": [
    {
     "name": "stdout",
     "output_type": "stream",
     "text": [
      "[6, 5, 10]\n",
      "[1, 5, 9, 10]\n",
      "[9, 5, 1]\n"
     ]
    }
   ],
   "source": [
    "working_list = []\n",
    "for i in commands:\n",
    "    if i[0].lower() == 'insert':\n",
    "        working_list.insert(i[1][0], i[1][1])\n",
    "    elif i[0].lower() == 'print':\n",
    "        print(working_list)\n",
    "    elif i[0].lower() == 'remove':\n",
    "        working_list.remove(i[1][0])\n",
    "    elif i[0].lower() == 'append':\n",
    "        working_list.append(i[1][0])\n",
    "    elif i[0].lower() == 'sort':\n",
    "        working_list.sort()\n",
    "    elif i[0].lower() == 'pop':\n",
    "        working_list.pop()\n",
    "    elif i[0].lower() == 'reverse':\n",
    "        working_list.reverse()"
   ]
  },
  {
   "cell_type": "markdown",
   "metadata": {},
   "source": [
    "## Method 2"
   ]
  },
  {
   "cell_type": "code",
   "execution_count": 53,
   "metadata": {},
   "outputs": [
    {
     "name": "stdout",
     "output_type": "stream",
     "text": [
      "[6, 5, 10]\n",
      "[1, 5, 9, 10]\n",
      "[9, 5, 1]\n"
     ]
    }
   ],
   "source": [
    "working_list = []\n",
    "for i in commands:\n",
    "    cmd = i[0]\n",
    "    if i[0] != 'print':\n",
    "        cmd += \"(\" + ','.join(map(str,i[1]))+\")\"\n",
    "        eval('working_list.'+cmd)\n",
    "    else:\n",
    "        print(working_list)"
   ]
  }
 ],
 "metadata": {
  "kernelspec": {
   "display_name": "Python 3",
   "language": "python",
   "name": "python3"
  },
  "language_info": {
   "codemirror_mode": {
    "name": "ipython",
    "version": 3
   },
   "file_extension": ".py",
   "mimetype": "text/x-python",
   "name": "python",
   "nbconvert_exporter": "python",
   "pygments_lexer": "ipython3",
   "version": "3.7.3"
  }
 },
 "nbformat": 4,
 "nbformat_minor": 2
}
