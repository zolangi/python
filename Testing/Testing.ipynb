{
 "cells": [
  {
   "cell_type": "markdown",
   "metadata": {},
   "source": [
    "# Code Debugging\n",
    "\n",
    "Several testing tools including:\n",
    "    \n",
    "**pylint:**\n",
    "- This is a library that looks at your code and reports back possible issues\n",
    "- use for errors or styling issues\n",
    "    \n",
    "**unittest:**\n",
    "- This is a built-in library that will allow you to test your own programs and check if you are getting the desired outputs\n",
    "- Test your code"
   ]
  },
  {
   "cell_type": "code",
   "execution_count": null,
   "metadata": {
    "collapsed": true
   },
   "outputs": [],
   "source": []
  }
 ],
 "metadata": {
  "kernelspec": {
   "display_name": "Python 3",
   "language": "python",
   "name": "python3"
  },
  "language_info": {
   "codemirror_mode": {
    "name": "ipython",
    "version": 3
   },
   "file_extension": ".py",
   "mimetype": "text/x-python",
   "name": "python",
   "nbconvert_exporter": "python",
   "pygments_lexer": "ipython3",
   "version": "3.6.1"
  }
 },
 "nbformat": 4,
 "nbformat_minor": 2
}
