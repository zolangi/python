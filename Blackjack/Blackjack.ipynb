{
 "cells": [
  {
   "cell_type": "code",
   "execution_count": 1,
   "metadata": {
    "collapsed": true
   },
   "outputs": [],
   "source": [
    "import random\n",
    "\n",
    "suits = ('Hearts', 'Diamonds', 'Spades', 'Clubs')\n",
    "ranks = ('Two', 'Three', 'Four', 'Five', 'Six', 'Seven', 'Eight', 'Nine', 'Jack', 'Queen', 'King', 'Ace')\n",
    "values = {'Two':2, 'Three':3, 'Four':4, 'Five':5, 'Six':6, 'Seven':7, 'Eight':8, 'Nine': 9, 'Jack': 10, 'Queen':10, 'King':10, 'Ace':11}"
   ]
  },
  {
   "cell_type": "code",
   "execution_count": 33,
   "metadata": {
    "collapsed": true
   },
   "outputs": [],
   "source": [
    "playing = True"
   ]
  },
  {
   "cell_type": "code",
   "execution_count": 3,
   "metadata": {
    "collapsed": true
   },
   "outputs": [],
   "source": [
    "class Card:\n",
    "    def __init__(self, suit, rank):\n",
    "        self.suit = suit\n",
    "        self.rank = rank\n",
    "    \n",
    "    def __str__(self):\n",
    "        return self.rank + ' of ' + self.suit"
   ]
  },
  {
   "cell_type": "code",
   "execution_count": 4,
   "metadata": {
    "collapsed": true
   },
   "outputs": [],
   "source": [
    "class Deck:\n",
    "    def __init__(self):\n",
    "        self.deck = []\n",
    "        for suit in suits:\n",
    "            for rank in ranks:\n",
    "                self.deck.append(Card(suit, rank))\n",
    "    \n",
    "    def __str__(self):\n",
    "        complete_deck = ''\n",
    "        for card in self.deck:\n",
    "            complete_deck += '\\n ' + card.__str__()\n",
    "        return 'This is the deck: ' + complete_deck\n",
    "    \n",
    "    def shuffle(self):\n",
    "        random.shuffle(self.deck)\n",
    "    \n",
    "    def deal(self):\n",
    "        one_card = self.deck.pop()\n",
    "        return one_card"
   ]
  },
  {
   "cell_type": "code",
   "execution_count": null,
   "metadata": {},
   "outputs": [],
   "source": [
    "test = Deck()\n",
    "print(test)"
   ]
  },
  {
   "cell_type": "code",
   "execution_count": 6,
   "metadata": {
    "collapsed": true
   },
   "outputs": [],
   "source": [
    "class Hand:\n",
    "    def __init__(self):\n",
    "        self.cards = []\n",
    "        self.value = 0\n",
    "        self.aces = 0\n",
    "    \n",
    "    def add_Card(self, card):\n",
    "        self.cards.append(card)\n",
    "        self.value += values[card.rank]\n",
    "        if card.rank == 'Ace':\n",
    "            self.aces +=1\n",
    "    \n",
    "    def ace_adjust(self):\n",
    "        while self.value > 21 and self.aces:\n",
    "            self.value -= 10\n",
    "            self.aces -= 1"
   ]
  },
  {
   "cell_type": "code",
   "execution_count": 7,
   "metadata": {
    "collapsed": true
   },
   "outputs": [],
   "source": [
    "test = Deck()\n",
    "test.shuffle()\n",
    "test_player = Hand()\n",
    "test_player.add_Card(test.deal())"
   ]
  },
  {
   "cell_type": "code",
   "execution_count": 8,
   "metadata": {},
   "outputs": [
    {
     "data": {
      "text/plain": [
       "7"
      ]
     },
     "execution_count": 8,
     "metadata": {},
     "output_type": "execute_result"
    }
   ],
   "source": [
    "test_player.value"
   ]
  },
  {
   "cell_type": "code",
   "execution_count": 9,
   "metadata": {},
   "outputs": [
    {
     "name": "stdout",
     "output_type": "stream",
     "text": [
      "Seven of Spades\n"
     ]
    }
   ],
   "source": [
    "for card in test_player.cards:\n",
    "    print(card)"
   ]
  },
  {
   "cell_type": "code",
   "execution_count": 10,
   "metadata": {
    "collapsed": true
   },
   "outputs": [],
   "source": [
    "class Chips:\n",
    "    def __init__(self):\n",
    "        self.bet = 0\n",
    "        self.total = 100 # default\n",
    "    \n",
    "    def win(self):\n",
    "        self.total += self.bet\n",
    "    \n",
    "    def lose(self):\n",
    "        self.total -= self.bet\n",
    "    "
   ]
  },
  {
   "cell_type": "code",
   "execution_count": 15,
   "metadata": {},
   "outputs": [],
   "source": [
    "def bet(chips):\n",
    "    while True:\n",
    "        try:\n",
    "            chips.bet = int(input('Enter your bet amount: '))\n",
    "        except ValueError:\n",
    "            print(\"Your bet must be an integer number!\")\n",
    "        else:\n",
    "            if chips.bet > chips.total:\n",
    "                print(\"Your bet must not exceed your total of \", chips.total)\n",
    "            else:\n",
    "                break"
   ]
  },
  {
   "cell_type": "code",
   "execution_count": 24,
   "metadata": {
    "collapsed": true
   },
   "outputs": [],
   "source": [
    "def hit(deck, hand):\n",
    "    hand.add_Card(deck.deal())\n",
    "    hand.ace_adjust()"
   ]
  },
  {
   "cell_type": "code",
   "execution_count": 30,
   "metadata": {},
   "outputs": [],
   "source": [
    "def hit_or_stand(deck, hand):\n",
    "    global playing\n",
    "    while True:\n",
    "        player_opt = input(\"Hit or Stand?\\nEnter 'h' = Hit or 's' = Stand: \")\n",
    "\n",
    "        if player_opt[0] == 'h':\n",
    "            hit(deck,hand)\n",
    "        elif player_opt[0] =='s':\n",
    "            print('Player Stands. Dealer Playing.')\n",
    "            playing = False\n",
    "        else:\n",
    "            print('Select valid option')\n",
    "            continue\n",
    "        break"
   ]
  },
  {
   "cell_type": "code",
   "execution_count": 18,
   "metadata": {
    "collapsed": true
   },
   "outputs": [],
   "source": [
    "def show_some(player, dealer):\n",
    "    print(\"\\nDealer's Hand:\")\n",
    "    print(\" <card hidden>\")\n",
    "    print('',dealer.cards[1])  \n",
    "    print(\"\\nPlayer's Hand:\", *player.cards, sep='\\n ')\n",
    "\n",
    "def show_all(player, dealer):\n",
    "    print(\"\\nDealer's Hand:\", *dealer.cards, sep='\\n')\n",
    "    print(\"Dealer's Hand =\", dealer.value) \n",
    "    print(\"\\nPlayer's Hand:\", *player.cards, sep='\\n ')\n",
    "    print(\"\\nPlayer's Hand=\", player.value)"
   ]
  },
  {
   "cell_type": "code",
   "execution_count": 20,
   "metadata": {
    "collapsed": true
   },
   "outputs": [],
   "source": [
    "def player_win(player, dealer, chips):\n",
    "    print(\"Player wins!\")\n",
    "    chips.win()\n",
    "\n",
    "def player_bust(player, dealer, chips):\n",
    "    print(\"Player busts!\")\n",
    "    chips.lose()\n",
    "\n",
    "def dealer_wins(player, dealer, chips):\n",
    "    print(\"Dealer wins!\")\n",
    "    chips.lose()\n",
    "\n",
    "def dealer_busts(player, dealer, chips):\n",
    "    print(\"Dealer busts!\")\n",
    "    chips.win()\n",
    "\n",
    "def no_winner(player, dealer):\n",
    "    print(\"This game is a tie!\")"
   ]
  },
  {
   "cell_type": "code",
   "execution_count": 35,
   "metadata": {},
   "outputs": [
    {
     "name": "stdout",
     "output_type": "stream",
     "text": [
      "Welcome to the Blackjack Game! To win get a hand value of 21 but do not go over! Keep in mind that Aces are either a 1 or 11\n",
      "Enter your bet amount: 25\n",
      "\n",
      "Dealer's Hand:\n",
      " <card hidden>\n",
      " Seven of Spades\n",
      "\n",
      "Player's Hand:\n",
      " Five of Hearts\n",
      " Five of Diamonds\n",
      "\n",
      "Dealer's Hand:\n",
      "Six of Hearts\n",
      "Seven of Spades\n",
      "Ace of Clubs\n",
      "Seven of Diamonds\n",
      "Dealer's Hand = 21\n",
      "\n",
      "Player's Hand:\n",
      " Five of Hearts\n",
      " Five of Diamonds\n",
      "\n",
      "Player's Hand= 10\n",
      "Dealer wins!\n",
      "The player's total: 75\n",
      "Play Again? Enter 'y' = Yes or 'n' = No : y\n",
      "Welcome to the Blackjack Game! To win get a hand value of 21 but do not go over! Keep in mind that Aces are either a 1 or 11\n",
      "Enter your bet amount: 25\n",
      "\n",
      "Dealer's Hand:\n",
      " <card hidden>\n",
      " King of Clubs\n",
      "\n",
      "Player's Hand:\n",
      " Ace of Spades\n",
      " Three of Clubs\n",
      "Hit or Stand?\n",
      "Enter 'h' = Hit or 's' = Stand: h\n",
      "\n",
      "Dealer's Hand:\n",
      " <card hidden>\n",
      " King of Clubs\n",
      "\n",
      "Player's Hand:\n",
      " Ace of Spades\n",
      " Three of Clubs\n",
      " Jack of Hearts\n",
      "Hit or Stand?\n",
      "Enter 'h' = Hit or 's' = Stand: s\n",
      "Player Stands. Dealer Playing.\n",
      "\n",
      "Dealer's Hand:\n",
      " <card hidden>\n",
      " King of Clubs\n",
      "\n",
      "Player's Hand:\n",
      " Ace of Spades\n",
      " Three of Clubs\n",
      " Jack of Hearts\n",
      "\n",
      "Dealer's Hand:\n",
      "Nine of Spades\n",
      "King of Clubs\n",
      "Dealer's Hand = 19\n",
      "\n",
      "Player's Hand:\n",
      " Ace of Spades\n",
      " Three of Clubs\n",
      " Jack of Hearts\n",
      "\n",
      "Player's Hand= 14\n",
      "Dealer wins!\n",
      "The player's total: 75\n",
      "Play Again? Enter 'y' = Yes or 'n' = No : y\n",
      "Welcome to the Blackjack Game! To win get a hand value of 21 but do not go over! Keep in mind that Aces are either a 1 or 11\n",
      "Enter your bet amount: 25\n",
      "\n",
      "Dealer's Hand:\n",
      " <card hidden>\n",
      " Eight of Hearts\n",
      "\n",
      "Player's Hand:\n",
      " Two of Hearts\n",
      " Five of Clubs\n",
      "Hit or Stand?\n",
      "Enter 'h' = Hit or 's' = Stand: h\n",
      "\n",
      "Dealer's Hand:\n",
      " <card hidden>\n",
      " Eight of Hearts\n",
      "\n",
      "Player's Hand:\n",
      " Two of Hearts\n",
      " Five of Clubs\n",
      " Three of Diamonds\n",
      "Hit or Stand?\n",
      "Enter 'h' = Hit or 's' = Stand: h\n",
      "\n",
      "Dealer's Hand:\n",
      " <card hidden>\n",
      " Eight of Hearts\n",
      "\n",
      "Player's Hand:\n",
      " Two of Hearts\n",
      " Five of Clubs\n",
      " Three of Diamonds\n",
      " Ace of Hearts\n",
      "Hit or Stand?\n",
      "Enter 'h' = Hit or 's' = Stand: h\n",
      "\n",
      "Dealer's Hand:\n",
      " <card hidden>\n",
      " Eight of Hearts\n",
      "\n",
      "Player's Hand:\n",
      " Two of Hearts\n",
      " Five of Clubs\n",
      " Three of Diamonds\n",
      " Ace of Hearts\n",
      " Seven of Clubs\n",
      "Hit or Stand?\n",
      "Enter 'h' = Hit or 's' = Stand: s\n",
      "Player Stands. Dealer Playing.\n",
      "\n",
      "Dealer's Hand:\n",
      " <card hidden>\n",
      " Eight of Hearts\n",
      "\n",
      "Player's Hand:\n",
      " Two of Hearts\n",
      " Five of Clubs\n",
      " Three of Diamonds\n",
      " Ace of Hearts\n",
      " Seven of Clubs\n",
      "\n",
      "Dealer's Hand:\n",
      "Jack of Clubs\n",
      "Eight of Hearts\n",
      "Dealer's Hand = 18\n",
      "\n",
      "Player's Hand:\n",
      " Two of Hearts\n",
      " Five of Clubs\n",
      " Three of Diamonds\n",
      " Ace of Hearts\n",
      " Seven of Clubs\n",
      "\n",
      "Player's Hand= 18\n",
      "This game is a tie!\n",
      "The player's total: 100\n",
      "Play Again? Enter 'y' = Yes or 'n' = No : y\n",
      "Welcome to the Blackjack Game! To win get a hand value of 21 but do not go over! Keep in mind that Aces are either a 1 or 11\n",
      "Enter your bet amount: 25\n",
      "\n",
      "Dealer's Hand:\n",
      " <card hidden>\n",
      " Two of Spades\n",
      "\n",
      "Player's Hand:\n",
      " King of Diamonds\n",
      " Six of Spades\n",
      "Hit or Stand?\n",
      "Enter 'h' = Hit or 's' = Stand: s\n",
      "Player Stands. Dealer Playing.\n",
      "\n",
      "Dealer's Hand:\n",
      " <card hidden>\n",
      " Two of Spades\n",
      "\n",
      "Player's Hand:\n",
      " King of Diamonds\n",
      " Six of Spades\n",
      "\n",
      "Dealer's Hand:\n",
      "Nine of Hearts\n",
      "Two of Spades\n",
      "Four of Diamonds\n",
      "Jack of Hearts\n",
      "Dealer's Hand = 25\n",
      "\n",
      "Player's Hand:\n",
      " King of Diamonds\n",
      " Six of Spades\n",
      "\n",
      "Player's Hand= 16\n",
      "Dealer busts!\n",
      "The player's total: 125\n",
      "Play Again? Enter 'y' = Yes or 'n' = No : n\n",
      "Thanks for playing!\n"
     ]
    }
   ],
   "source": [
    "while True:\n",
    "    # Print an opening statement\n",
    "    print(\"Welcome to the Blackjack Game! To win get a hand value of 21 but do not go over! Keep in mind that Aces are either a 1 or 11\")\n",
    "\n",
    "    \n",
    "    # Create & shuffle the deck, deal two cards to each player\n",
    "    deck = Deck()\n",
    "    deck.shuffle()\n",
    "    \n",
    "    dealer = Hand()\n",
    "    player = Hand()\n",
    "    \n",
    "    dealer.add_Card(deck.deal())\n",
    "    dealer.add_Card(deck.deal())\n",
    "    \n",
    "    player.add_Card(deck.deal())\n",
    "    player.add_Card(deck.deal())\n",
    "    \n",
    "        \n",
    "    # Set up the Player's chips\n",
    "    player_chips = Chips()\n",
    "    \n",
    "    # Prompt the Player for their bet\n",
    "    bet(player_chips)\n",
    "    \n",
    "    # Show cards (but keep one dealer card hidden)\n",
    "    show_some(player, dealer)\n",
    "    \n",
    "    while playing:  # recall this variable from our hit_or_stand function\n",
    "        \n",
    "        # Prompt for Player to Hit or Stand\n",
    "        hit_or_stand(deck, player)\n",
    "        \n",
    "        # Show cards (but keep one dealer card hidden)\n",
    "        show_some(player, dealer)\n",
    "        \n",
    "        # If player's hand exceeds 21, run player_busts() and break out of loop\n",
    "        if player.value > 21:\n",
    "            player_bust(player, dealer, player_chips)\n",
    "            break\n",
    "\n",
    "    # If Player hasn't busted, play Dealer's hand until Dealer reaches 17\n",
    "    if player.value <= 21:\n",
    "        while dealer.value <17:\n",
    "            hit(deck, dealer)\n",
    "    \n",
    "        # Show all cards\n",
    "        show_all(player, dealer)\n",
    "        # Run different winning scenarios\n",
    "        if dealer.value > 21:\n",
    "            dealer_busts(player, dealer, player_chips)\n",
    "        elif dealer.value > player.value:\n",
    "            dealer_wins(player, dealer, player_chips)\n",
    "        elif dealer.value < player.value:\n",
    "            player_wins(player, dealer, player_chips)\n",
    "        else:\n",
    "            no_winner(player, dealer)\n",
    "        \n",
    "    \n",
    "    # Inform Player of their chips total \n",
    "    print(f\"The player's total: {player_chips.total}\")\n",
    "    # Ask to play again\n",
    "    play_again = input(\"Play Again? Enter 'y' = Yes or 'n' = No : \")\n",
    "    if play_again[0] == 'y':\n",
    "        playing = True\n",
    "        continue\n",
    "    elif play_again[0] == 'n':\n",
    "        print(\"Thanks for playing!\")\n",
    "        break"
   ]
  },
  {
   "cell_type": "code",
   "execution_count": null,
   "metadata": {
    "collapsed": true
   },
   "outputs": [],
   "source": []
  }
 ],
 "metadata": {
  "kernelspec": {
   "display_name": "Python 3",
   "language": "python",
   "name": "python3"
  },
  "language_info": {
   "codemirror_mode": {
    "name": "ipython",
    "version": 3
   },
   "file_extension": ".py",
   "mimetype": "text/x-python",
   "name": "python",
   "nbconvert_exporter": "python",
   "pygments_lexer": "ipython3",
   "version": "3.6.1"
  }
 },
 "nbformat": 4,
 "nbformat_minor": 2
}
