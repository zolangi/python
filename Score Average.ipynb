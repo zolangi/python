{
 "cells": [
  {
   "cell_type": "code",
   "execution_count": 8,
   "metadata": {},
   "outputs": [
    {
     "name": "stdout",
     "output_type": "stream",
     "text": [
      "Enter the number of Students: \n",
      "3\n",
      "Enter the Student Name and their Grades separated by a space: \n",
      "Harri 45 65 98 87\n",
      "Enter the Student Name and their Grades separated by a space: \n",
      "Jenny 98 100 100 37\n",
      "Enter the Student Name and their Grades separated by a space: \n",
      "Ken 100 100 100 100\n",
      "Enter the Student Name to see their Average score: \n",
      "Jenny\n"
     ]
    }
   ],
   "source": [
    "n = int(input(\"Enter the number of Students: \"))\n",
    "student_marks = {}\n",
    "for _ in range(n):\n",
    "    name, *line = input(\"Enter the Student Name and their Grades separated by a space: \").split()\n",
    "    scores = list(map(float, line))\n",
    "    student_marks[name] = scores\n",
    "query_name = input(\"Enter the Student Name to see their Average score: \")"
   ]
  },
  {
   "cell_type": "code",
   "execution_count": 12,
   "metadata": {},
   "outputs": [
    {
     "name": "stdout",
     "output_type": "stream",
     "text": [
      "Jenny's average score is 83.75\n"
     ]
    }
   ],
   "source": [
    "student_grades = student_marks.get(query_name)\n",
    "average = sum(student_grades)/len(student_grades)\n",
    "print(f\"{query_name}'s average score is {average}\")"
   ]
  },
  {
   "cell_type": "code",
   "execution_count": null,
   "metadata": {
    "collapsed": true
   },
   "outputs": [],
   "source": []
  }
 ],
 "metadata": {
  "kernelspec": {
   "display_name": "Python 3",
   "language": "python",
   "name": "python3"
  },
  "language_info": {
   "codemirror_mode": {
    "name": "ipython",
    "version": 3
   },
   "file_extension": ".py",
   "mimetype": "text/x-python",
   "name": "python",
   "nbconvert_exporter": "python",
   "pygments_lexer": "ipython3",
   "version": "3.6.1"
  }
 },
 "nbformat": 4,
 "nbformat_minor": 2
}
