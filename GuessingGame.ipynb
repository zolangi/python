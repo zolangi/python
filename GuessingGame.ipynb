{
 "cells": [
  {
   "cell_type": "markdown",
   "metadata": {},
   "source": [
    "# Guessing Game"
   ]
  },
  {
   "cell_type": "code",
   "execution_count": null,
   "metadata": {
    "collapsed": true
   },
   "outputs": [],
   "source": [
    "from random import randint"
   ]
  },
  {
   "cell_type": "code",
   "execution_count": null,
   "metadata": {
    "collapsed": true
   },
   "outputs": [],
   "source": [
    "num = randint(1,101)\n",
    "num"
   ]
  },
  {
   "cell_type": "code",
   "execution_count": null,
   "metadata": {
    "collapsed": true
   },
   "outputs": [],
   "source": [
    "print('Welcome to the Guessing Game Challenge.\\nTo play this game you have to guess a # b/w 1-100.\\nIf you get it right you win!')\n",
    "\n",
    "print('Quick Tips:\\n\\tIf your number is 10+ numbers away from mine, you are COLD')\n",
    "print('\\tIf your number is within 10 of the number then you will be WARM')\n",
    "print('\\tIf the nuber is closer or further than the number then you will be WARMER or COLDER')\n",
    "print('\\tOnce you guess the right number I will tell you how many guesses it took')"
   ]
  },
  {
   "cell_type": "code",
   "execution_count": null,
   "metadata": {
    "collapsed": true
   },
   "outputs": [],
   "source": [
    "guesses = [0]"
   ]
  },
  {
   "cell_type": "code",
   "execution_count": null,
   "metadata": {
    "collapsed": true
   },
   "outputs": [],
   "source": [
    "while True:\n",
    "    guess = int(input('Guess a number between 1-100: '))\n",
    "    if guess < 1 or guess > 100:\n",
    "        print('OUT OF BOUNDS. Please guess a number between 1-100\\n')\n",
    "        continue\n",
    "        \n",
    "    if num == guess:\n",
    "        print(f'You guessed the number {num} correctly! and it took {turn} tries.')\n",
    "        break\n",
    "    \n",
    "    guesses.append(guess)  \n",
    "    \n",
    "    if guesses[-2]:\n",
    "        if abs(num-guess) < abs(num-guesses[-2]):\n",
    "            print('WARMER!')\n",
    "        else:\n",
    "            print('COLDER!')\n",
    "   \n",
    "    else:\n",
    "        if abs(num-guess) <= 10:\n",
    "            print('WARM!')\n",
    "        else:\n",
    "            print('COLD!')\n",
    "    turn = len(guesses)\n",
    "    pass"
   ]
  },
  {
   "cell_type": "markdown",
   "metadata": {},
   "source": [
    "### Good Job!"
   ]
  }
 ],
 "metadata": {
  "kernelspec": {
   "display_name": "Python 3",
   "language": "python",
   "name": "python3"
  },
  "language_info": {
   "codemirror_mode": {
    "name": "ipython",
    "version": 3
   },
   "file_extension": ".py",
   "mimetype": "text/x-python",
   "name": "python",
   "nbconvert_exporter": "python",
   "pygments_lexer": "ipython3",
   "version": "3.6.1"
  }
 },
 "nbformat": 4,
 "nbformat_minor": 2
}
