{
 "cells": [
  {
   "cell_type": "markdown",
   "metadata": {},
   "source": [
    "# Tic Tac Toe"
   ]
  },
  {
   "cell_type": "markdown",
   "metadata": {},
   "source": [
    "### Rules:\n",
    "   - Make 3 in a row and you win!\n",
    "   - No possible way for any player to win? Tie\n",
    "   - Board will be numbered from left to right, top to bottom. You will select at which position to place your marker.\n",
    "     \n",
    "          1 | 2 | 3\n",
    "         ---|---|---\n",
    "          4 | 5 | 6\n",
    "         ---|---|---\n",
    "          7 | 8 | 9"
   ]
  },
  {
   "cell_type": "code",
   "execution_count": 1,
   "metadata": {
    "collapsed": true
   },
   "outputs": [],
   "source": [
    "from IPython.display import clear_output\n",
    "\n",
    "# display game board\n",
    "def display_board(board):\n",
    "    clear_output()\n",
    "    print(' '+ board[1] + ' | ' + board[2] + ' | ' + board[3])\n",
    "    print('---|---|---')\n",
    "    print(' '+ board[4] + ' | ' + board[5] + ' | ' + board[6])\n",
    "    print('---|---|---')\n",
    "    print(' '+ board[7] + ' | ' + board[8] + ' | ' + board[9])\n",
    "        "
   ]
  },
  {
   "cell_type": "code",
   "execution_count": 2,
   "metadata": {
    "collapsed": true
   },
   "outputs": [],
   "source": [
    "# player chooses there marker\n",
    "def player_input():\n",
    "    mark = ''\n",
    "    while (mark != 'X') or (mark !='O'):\n",
    "        mark = input(\"Player choose your marker 'X' or 'O': \").upper()\n",
    "        if mark == 'X':\n",
    "            return ('X', 'O')\n",
    "        elif mark == 'O':\n",
    "            return ('O', 'X')"
   ]
  },
  {
   "cell_type": "code",
   "execution_count": 3,
   "metadata": {
    "collapsed": true
   },
   "outputs": [],
   "source": [
    "# place the marker on the specified position\n",
    "def place_marker(board, marker, position):\n",
    "    board[position] = marker"
   ]
  },
  {
   "cell_type": "code",
   "execution_count": 4,
   "metadata": {
    "collapsed": true
   },
   "outputs": [],
   "source": [
    "# check board for any winners\n",
    "def win_check(board, mark):\n",
    "    return (board[1] == mark and board[2] == mark and board[3] == mark) or (board[4] == mark and board[5] == mark and board[6] == mark) or (board[7] == mark and board[8] == mark and board[9] == mark) or (board[1] == mark and board[4] == mark and board[7] == mark) or (board[2] == mark and board[5] == mark and board[8] == mark) or (board[3] == mark and board[6] == mark and board[9] == mark) or (board[1] == mark and board[5] == mark and board[9] == mark) or (board[3] == mark and board[5] == mark and board[7] == mark)"
   ]
  },
  {
   "cell_type": "code",
   "execution_count": 5,
   "metadata": {
    "collapsed": true
   },
   "outputs": [],
   "source": [
    "import random\n",
    "\n",
    "# choose which player goes first\n",
    "def choose_first():\n",
    "    return random.randint(1,2)"
   ]
  },
  {
   "cell_type": "code",
   "execution_count": 6,
   "metadata": {
    "collapsed": true
   },
   "outputs": [],
   "source": [
    "# checks if the indicated space if available\n",
    "def space_check(board, position):\n",
    "    return board[position] == ' '\n",
    "\n",
    "# checks if the board is full\n",
    "def full_board_check(board):\n",
    "    return ' ' not in board[1:]"
   ]
  },
  {
   "cell_type": "code",
   "execution_count": 10,
   "metadata": {
    "collapsed": true
   },
   "outputs": [],
   "source": [
    "# ask for player's next position (as a number 1-9) and check if that space is available\n",
    "def player_choice(board, turn):\n",
    "    position = 0\n",
    "    while (position not in range(1,10)) or not (space_check(board, position)):\n",
    "        try:\n",
    "            position = int(input(f\"Player {turn} choose your position (as a number 1-9): \"))\n",
    "        except:\n",
    "            print('Input a number from 1-9')\n",
    "    \n",
    "    return position"
   ]
  },
  {
   "cell_type": "code",
   "execution_count": 8,
   "metadata": {
    "collapsed": true
   },
   "outputs": [],
   "source": [
    "# returns true if the user wants to play again\n",
    "def replay():\n",
    "    return input(\"Play Again? 'Y' for yes 'N' for no: \").upper().startswith('Y')"
   ]
  },
  {
   "cell_type": "code",
   "execution_count": 11,
   "metadata": {},
   "outputs": [
    {
     "name": "stdout",
     "output_type": "stream",
     "text": [
      " X |   | O\n",
      "---|---|---\n",
      " X |   | O\n",
      "---|---|---\n",
      " X |   |  \n",
      "Hooray! Player X won!\n",
      "Play Again? 'Y' for yes 'N' for no: n\n"
     ]
    }
   ],
   "source": [
    "\n",
    "board = [' '] * 10\n",
    "while True:\n",
    "    clear_output()    \n",
    "    turn = choose_first()\n",
    "    print('Welcome to Tic Tac Toe!')\n",
    "\n",
    "    p1, p2 = player_input()\n",
    "    players = [0, p1, p2]\n",
    "    print(f'\\n{p1} is Player 1\\n{p2} is Player 2')\n",
    "    player = players[turn]\n",
    "    print(f'\\nPlayer {turn} will go First')\n",
    "    \n",
    "    input('Hit enter to start playing')\n",
    "    game_play = True\n",
    "\n",
    "    while game_play:\n",
    "        display_board(board)\n",
    "        position = player_choice(board, player)\n",
    "        place_marker(board, player, position)\n",
    "        \n",
    "        if win_check(board, player):\n",
    "            display_board(board)\n",
    "            print(f\"Hooray! Player {player} won!\")\n",
    "            game_play = False\n",
    "        else: \n",
    "            if full_board_check(board):\n",
    "                display_board(board)\n",
    "                print('Game is Tied!')\n",
    "                game_play = False\n",
    "            else:\n",
    "                turn *= -1\n",
    "                player = players[turn]\n",
    "                clear_output()\n",
    "\n",
    "    board = [' '] * 10\n",
    "\n",
    "    if not replay():\n",
    "        break"
   ]
  },
  {
   "cell_type": "code",
   "execution_count": null,
   "metadata": {
    "collapsed": true
   },
   "outputs": [],
   "source": []
  }
 ],
 "metadata": {
  "kernelspec": {
   "display_name": "Python 3",
   "language": "python",
   "name": "python3"
  },
  "language_info": {
   "codemirror_mode": {
    "name": "ipython",
    "version": 3
   },
   "file_extension": ".py",
   "mimetype": "text/x-python",
   "name": "python",
   "nbconvert_exporter": "python",
   "pygments_lexer": "ipython3",
   "version": "3.6.1"
  }
 },
 "nbformat": 4,
 "nbformat_minor": 1
}
